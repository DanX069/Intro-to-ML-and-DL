{
  "cells": [
    {
      "cell_type": "markdown",
      "metadata": {
        "id": "M7IlzQhajs71"
      },
      "source": [
        "###Question 1:\n",
        "Generate a dataset for linear regression with 1000 samples, 5 features and single target.\n",
        "\n",
        "Visualize the data by plotting the target column against each feature column. Also plot the best fit line in each case.\n",
        "\n",
        "Hint : search for obtaining regression line using numpy."
      ]
    },
    {
      "cell_type": "code",
      "execution_count": 4,
      "metadata": {
        "id": "X4-07o0-eHZU"
      },
      "outputs": [
        {
          "ename": "ModuleNotFoundError",
          "evalue": "No module named 'numpy'",
          "output_type": "error",
          "traceback": [
            "\u001b[0;31m---------------------------------------------------------------------------\u001b[0m",
            "\u001b[0;31mModuleNotFoundError\u001b[0m                       Traceback (most recent call last)",
            "Cell \u001b[0;32mIn[4], line 1\u001b[0m\n\u001b[0;32m----> 1\u001b[0m \u001b[39mimport\u001b[39;00m \u001b[39mnumpy\u001b[39;00m \u001b[39mas\u001b[39;00m \u001b[39mnp\u001b[39;00m\n\u001b[1;32m      2\u001b[0m \u001b[39mimport\u001b[39;00m \u001b[39mmatplotlib\u001b[39;00m\u001b[39m.\u001b[39;00m\u001b[39mpyplot\u001b[39;00m \u001b[39mas\u001b[39;00m \u001b[39mplt\u001b[39;00m\n\u001b[1;32m      3\u001b[0m \u001b[39mfrom\u001b[39;00m \u001b[39msklearn\u001b[39;00m\u001b[39m.\u001b[39;00m\u001b[39mdatasets\u001b[39;00m \u001b[39mimport\u001b[39;00m make_regression\n",
            "\u001b[0;31mModuleNotFoundError\u001b[0m: No module named 'numpy'"
          ]
        }
      ],
      "source": [
        "import numpy as np\n",
        "import matplotlib.pyplot as plt\n",
        "from sklearn.datasets import make_regression\n",
        "from sklearn.linear_model import LinearRegression\n",
        "\n",
        "# create a dataset for linear regression\n",
        "X, y = make_regression(n_samples=1000, n_features=5, noise=0.1)\n",
        "\n",
        "# iterate over each feature column\n",
        "for i in range(X.shape[1]):\n",
        "    # plot the feature column against the target\n",
        "    plt.figure(figsize=(8,6))\n",
        "    plt.scatter(X[:, i], y, color='blue')\n",
        "\n",
        "    # reshape the feature column and target for fitting the model\n",
        "    X_i = X[:, i].reshape(-1, 1)\n",
        "    y_i = y.reshape(-1, 1)\n",
        "\n",
        "    # fit the model\n",
        "    model = LinearRegression()\n",
        "    model.fit(X_i, y_i)\n",
        "\n",
        "    # plot the best fit line\n",
        "    y_pred = model.predict(X_i)\n",
        "    plt.plot(X_i, y_pred, color='red')\n",
        "    plt.title(f'Feature {i+1} vs Target')\n",
        "    plt.xlabel(f'Feature {i+1}')\n",
        "    plt.ylabel('Target')\n",
        "    plt.show()\n"
      ]
    },
    {
      "cell_type": "markdown",
      "metadata": {
        "id": "GOGDTvDVd57W"
      },
      "source": [
        "### Question 2:\n",
        "Make a classification dataset of 1000 samples with 2 features, 2 classes and 2 clusters per class.\n",
        "Plot the data."
      ]
    },
    {
      "cell_type": "code",
      "execution_count": null,
      "metadata": {
        "id": "DspQLHVeeH01"
      },
      "outputs": [
        {
          "ename": "",
          "evalue": "",
          "output_type": "error",
          "traceback": [
            "\u001b[1;31mRunning cells with '/bin/python3.11' requires the ipykernel package.\n",
            "\u001b[1;31mRun the following command to install 'ipykernel' into the Python environment. \n",
            "\u001b[1;31mCommand: '/bin/python3.11 -m pip install ipykernel -U --user --force-reinstall'"
          ]
        }
      ],
      "source": []
    },
    {
      "cell_type": "markdown",
      "metadata": {
        "id": "7ghM2NebJXtR"
      },
      "source": [
        "### Question 3:\n",
        "Make a clustering dataset with 2 features and 4 clusters."
      ]
    },
    {
      "cell_type": "code",
      "execution_count": null,
      "metadata": {
        "id": "sjjsnbxieIZN"
      },
      "outputs": [
        {
          "ename": "",
          "evalue": "",
          "output_type": "error",
          "traceback": [
            "\u001b[1;31mRunning cells with '/bin/python3.11' requires the ipykernel package.\n",
            "\u001b[1;31mRun the following command to install 'ipykernel' into the Python environment. \n",
            "\u001b[1;31mCommand: '/bin/python3.11 -m pip install ipykernel -U --user --force-reinstall'"
          ]
        }
      ],
      "source": []
    },
    {
      "cell_type": "markdown",
      "metadata": {
        "id": "eskxgE9T1jh2"
      },
      "source": [
        "## Question 4\n",
        "Go to the website https://www.worldometers.info/coronavirus/ and scrape the table containing covid-19 infection and deaths data using requests and BeautifulSoup.  Convert the table to a Pandas dataframe with the following columns : Country, Continent, Population, TotalCases, NewCases, TotalDeaths, NewDeaths,TotalRecovered, NewRecovered,  ActiveCases.\n",
        "\n",
        "*(<b>Optional Challenge :</b> Change the data type of the Columns (Population ... till ActiveCases) to integer. For that you need to remove the commas and plus signs. You may need to use df.apply() and pd.to_numeric() . Take care of the values which are empty strings.)"
      ]
    },
    {
      "cell_type": "code",
      "execution_count": null,
      "metadata": {
        "id": "V7fs4Th9eI6W"
      },
      "outputs": [
        {
          "ename": "",
          "evalue": "",
          "output_type": "error",
          "traceback": [
            "\u001b[1;31mRunning cells with '/bin/python3.11' requires the ipykernel package.\n",
            "\u001b[1;31mRun the following command to install 'ipykernel' into the Python environment. \n",
            "\u001b[1;31mCommand: '/bin/python3.11 -m pip install ipykernel -U --user --force-reinstall'"
          ]
        }
      ],
      "source": []
    },
    {
      "cell_type": "markdown",
      "metadata": {
        "id": "QhHpN4yCxn-H"
      },
      "source": [
        "# Question 5\n",
        "\n",
        "Generate an imbalanced classification dataset using sklearn of 1000 samples with 2 features, 2 classes and 1 cluster per class. Plot the data. One of the class should contain only 5% of the total samples. Confirm this either using numpy or Counter. Plot the data.\n",
        "\n",
        "Now oversample the minority class to 5 times its initial size using SMOTE. Verify the number. Plot the data.\n",
        "\n",
        "Now undersample the majority class to 3 times the size of minority class using RandomUnderSampler. Verify the number. Plot the data.\n",
        "\n",
        "Reference : Last markdown cell of the examples."
      ]
    },
    {
      "cell_type": "code",
      "execution_count": null,
      "metadata": {
        "id": "hLKcLL42lCa2"
      },
      "outputs": [
        {
          "ename": "",
          "evalue": "",
          "output_type": "error",
          "traceback": [
            "\u001b[1;31mRunning cells with '/bin/python3.11' requires the ipykernel package.\n",
            "\u001b[1;31mRun the following command to install 'ipykernel' into the Python environment. \n",
            "\u001b[1;31mCommand: '/bin/python3.11 -m pip install ipykernel -U --user --force-reinstall'"
          ]
        }
      ],
      "source": []
    },
    {
      "cell_type": "markdown",
      "metadata": {
        "id": "6_j0Smzgk6mZ"
      },
      "source": [
        "##Question 6\n",
        "\n",
        "Write a Python code to perform data preprocessing on a dataset using the scikit-learn library. Follow the instructions below:\n",
        "\n",
        " * Load the dataset using the scikit-learn `load_iris` function.\n",
        " * Assign the feature data to a variable named `X` and the target data to a variable named `y`.\n",
        " * Create a pandas DataFrame called `df` using `X` as the data and the feature names obtained from the dataset.\n",
        " * Display the first 5 rows of the DataFrame `df`.\n",
        " *  Check if there are any missing values in the DataFrame and handle them accordingly.\n",
        " * Split the data into training and testing sets using the `train_test_split` function from scikit-learn. Assign 70% of the data to the training set and the remaining 30% to the testing set.\n",
        " * Print the dimensions of the training set and testing set respectively.\n",
        " *  Standardize the feature data in the training set using the `StandardScaler` from scikit-learn.\n",
        " *  Apply the same scaling transformation on the testing set.\n",
        " * Print the first 5 rows of the standardized training set."
      ]
    },
    {
      "cell_type": "code",
      "execution_count": null,
      "metadata": {
        "id": "wCJg725i4xiY"
      },
      "outputs": [
        {
          "ename": "",
          "evalue": "",
          "output_type": "error",
          "traceback": [
            "\u001b[1;31mRunning cells with '/bin/python3.11' requires the ipykernel package.\n",
            "\u001b[1;31mRun the following command to install 'ipykernel' into the Python environment. \n",
            "\u001b[1;31mCommand: '/bin/python3.11 -m pip install ipykernel -U --user --force-reinstall'"
          ]
        }
      ],
      "source": []
    }
  ],
  "metadata": {
    "colab": {
      "provenance": []
    },
    "kernelspec": {
      "display_name": "Python 3",
      "name": "python3"
    },
    "language_info": {
      "codemirror_mode": {
        "name": "ipython",
        "version": 3
      },
      "file_extension": ".py",
      "mimetype": "text/x-python",
      "name": "python",
      "nbconvert_exporter": "python",
      "pygments_lexer": "ipython3",
      "version": "3.11.0rc1"
    }
  },
  "nbformat": 4,
  "nbformat_minor": 0
}
